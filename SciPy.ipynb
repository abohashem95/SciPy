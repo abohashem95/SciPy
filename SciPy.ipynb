{
 "cells": [
  {
   "cell_type": "markdown",
   "metadata": {},
   "source": [
    "# SciPy --> Scientific python"
   ]
  },
  {
   "cell_type": "code",
   "execution_count": 2,
   "metadata": {},
   "outputs": [],
   "source": [
    "#  import SciPy\n",
    "import numpy as np\n",
    "import scipy as sc"
   ]
  },
  {
   "cell_type": "code",
   "execution_count": 3,
   "metadata": {},
   "outputs": [
    {
     "name": "stdout",
     "output_type": "stream",
     "text": [
      "(-1.3061484200406244, -7.94582288025181, 0, 11)\n"
     ]
    }
   ],
   "source": [
    "# function Minimum Boundry (fminbound)\n",
    "# to give minimum value from chosen boundry for any function\n",
    "\n",
    "from scipy import optimize  # import optimize attribute\n",
    "\n",
    "\n",
    "def f(x):\n",
    "    return x**2 + 10*np.sin(x)\n",
    "\n",
    "a = sc.optimize.fminbound(f,                      # function\n",
    "                          x1 = -10,               # first bound \n",
    "                          x2 = 10,                # second bound\n",
    "                          xtol = 0.01,            # Max Tolerance\n",
    "                          full_output = True,     # details \n",
    "                          disp = 1 )              #show only numbers\n",
    "\n",
    "print(a)\n",
    "\n",
    "#output:\n",
    "# (Value of x, Value of y, 0 for convergance, number of iterations)\n",
    "\n",
    "#note: x value \n"
   ]
  },
  {
   "cell_type": "code",
   "execution_count": 4,
   "metadata": {},
   "outputs": [
    {
     "name": "stdout",
     "output_type": "stream",
     "text": [
      "\n",
      "Optimization terminated successfully;\n",
      "The returned value satisfies the termination criteria\n",
      "(using xtol =  0.01 )\n",
      "(-1.3061484200406244, -7.94582288025181, 0, 11)\n"
     ]
    }
   ],
   "source": [
    "# disp = 2\n",
    "\n",
    "\n",
    "def f(x):\n",
    "    return x**2 + 10*np.sin(x)\n",
    "a = sc.optimize.fminbound(f,# function\n",
    "                          x1 = -10,# first bound \n",
    "                          x2 = 10,#second bound\n",
    "                          xtol = 0.01, # Max Tolerance\n",
    "                          full_output = True,# details \n",
    "                          disp = 2 ) #show some details\n",
    "\n",
    "print(a)\n",
    "# Value of x , Value of y , 0 for convergance\n",
    "# , number of iterations"
   ]
  },
  {
   "cell_type": "code",
   "execution_count": 6,
   "metadata": {},
   "outputs": [
    {
     "name": "stdout",
     "output_type": "stream",
     "text": [
      " \n",
      " Func-count     x          f(x)          Procedure\n",
      "    1       -2.36068     -1.46647        initial\n",
      "    2        2.36068      12.6121        golden\n",
      "    3       -5.27864      36.3032        golden\n",
      "    4      -0.715181     -6.04606        parabolic\n",
      "    5      -0.795481     -6.50921        parabolic\n",
      "    6       -1.28322     -7.94269        parabolic\n",
      "    7       -1.69477     -7.05101        golden\n",
      "    8       -1.29818     -7.94543        parabolic\n",
      "    9       -1.30615     -7.94582        parabolic\n",
      "   10       -1.30948     -7.94577        parabolic\n",
      "   11       -1.30282     -7.94575        parabolic\n",
      "\n",
      "Optimization terminated successfully;\n",
      "The returned value satisfies the termination criteria\n",
      "(using xtol =  0.01 )\n",
      "(-1.3061484200406244, -7.94582288025181, 0, 11)\n"
     ]
    }
   ],
   "source": [
    "# disp = 3\n",
    "\n",
    "\n",
    "def f(x):\n",
    "    return x**2 + 10*np.sin(x)\n",
    "\n",
    "a = sc.optimize.fminbound(f,# function\n",
    "                          x1 = -10,# first bound \n",
    "                          x2 = 10,#second bound\n",
    "                          xtol = 0.01, # Max Tolerance\n",
    "                          full_output = True,# details \n",
    "                          disp = 3 ) #show iterations\n",
    "\n",
    "print(a)\n",
    "# Value of x , Value of y , 0 for convergance\n",
    "# , number of iterations"
   ]
  },
  {
   "cell_type": "code",
   "execution_count": 8,
   "metadata": {},
   "outputs": [
    {
     "name": "stdout",
     "output_type": "stream",
     "text": [
      "-3.999996435239639\n",
      "-1.1102230246251565e-16\n",
      "-3.999996435239639\n",
      "2.0\n",
      "0.868518564878511\n",
      "-2.1499620000850844e-06\n"
     ]
    }
   ],
   "source": [
    "# example (6 functions)\n",
    "\n",
    "\n",
    "def a(x):\n",
    "    return (x)\n",
    "def b(x):\n",
    "    return (x**2)\n",
    "def c(x):\n",
    "    return (x**3)\n",
    "def d(x):\n",
    "    return (x**2 - 4*x + 1)\n",
    "def e(x):\n",
    "    return (x**3 + x**2 - 4*x - 3)\n",
    "def f(x):\n",
    "    return (1/x)\n",
    "\n",
    "amin = optimize.fminbound(a, -4, 4)\n",
    "print(amin)\n",
    "bmin = optimize.fminbound(b, -4, 4)\n",
    "print(bmin)\n",
    "cmin = optimize.fminbound(c, -4, 4)\n",
    "print(cmin)\n",
    "dmin = optimize.fminbound(d, -4, 4)\n",
    "print(dmin)\n",
    "emin = optimize.fminbound(e, -4, 4)\n",
    "print(emin)\n",
    "fmin = optimize.fminbound(f, -4, 4)\n",
    "print(fmin)\n"
   ]
  },
  {
   "cell_type": "code",
   "execution_count": 9,
   "metadata": {},
   "outputs": [
    {
     "data": {
      "image/png": "[encoded data removed]",
      "text/plain": [
       "<Figure size 432x288 with 1 Axes>"
      ]
     },
     "metadata": {
      "needs_background": "light"
     },
     "output_type": "display_data"
    },
    {
     "name": "stdout",
     "output_type": "stream",
     "text": [
      "Warning: Maximum number of iterations has been exceeded.\n",
      "         Current function value: 1239.195121\n",
      "         Iterations: 2\n",
      "         Function evaluations: 12\n",
      "         Gradient evaluations: 4\n",
      "(array([35.29788524]), [array([50]), array([44.95]), array([35.29788524])])\n"
     ]
    }
   ],
   "source": [
    "# fmin_bfgs command for doing GD\n",
    "\n",
    "\n",
    "import matplotlib.pyplot as plt\n",
    "import numpy as np\n",
    "import scipy as sc\n",
    "def f(x):\n",
    "    return x**2 + 10*np.sin(x)\n",
    "\n",
    "x = np.arange(-10, 10, 0.1)\n",
    "plt.plot(x, f(x))\n",
    "plt.show()\n",
    "\n",
    "\n",
    "a = sc.optimize.fmin_bfgs(f, #function\n",
    "                          x0 = 50 , # a value to start\n",
    "                          epsilon = 10 ,  # step\n",
    "                          disp = 1 , # if 1 then display full details\n",
    "                          retall = 1 ,# if 1 then display all iterations\n",
    "                          maxiter = 2 ) #max no. if ierations\n",
    "print(a)\n"
   ]
  },
  {
   "cell_type": "code",
   "execution_count": 10,
   "metadata": {},
   "outputs": [
    {
     "data": {
      "image/png": "[encoded data removed]",
      "text/plain": [
       "<Figure size 432x288 with 1 Axes>"
      ]
     },
     "metadata": {
      "needs_background": "light"
     },
     "output_type": "display_data"
    },
    {
     "name": "stdout",
     "output_type": "stream",
     "text": [
      "Warning: Desired error not necessarily achieved due to precision loss.\n",
      "         Current function value: -7.931319\n",
      "         Iterations: 7\n",
      "         Function evaluations: 258\n",
      "         Gradient evaluations: 82\n",
      "(array([-1.3562454]), [array([50]), array([44.95]), array([35.01154003]), array([17.00942323]), array([-2.5328942]), array([-1.21948726]), array([-1.36193066]), array([-1.3562454])])\n"
     ]
    }
   ],
   "source": [
    "# another values \n",
    "\n",
    "import matplotlib.pyplot as plt\n",
    "import numpy as np\n",
    "import scipy as sc\n",
    "def f(x):\n",
    "    return x**2 + 10*np.sin(x)\n",
    "\n",
    "x = np.arange(-10, 10, 0.1)\n",
    "plt.plot(x, f(x))\n",
    "plt.show()\n",
    "\n",
    "\n",
    "a = sc.optimize.fmin_bfgs(f, #function\n",
    "                          x0 = 50 , # a value to start\n",
    "                          epsilon = 0.1 ,  # step\n",
    "                          disp = 1 , # if 1 then display full details\n",
    "                          retall = 1 ,# if 1 then display all iterations\n",
    "                          maxiter = 20 ) #max no. if ierations\n",
    "print(a)\n"
   ]
  },
  {
   "cell_type": "code",
   "execution_count": 12,
   "metadata": {},
   "outputs": [
    {
     "data": {
      "image/png": "[encoded data removed]",
      "text/plain": [
       "<Figure size 432x288 with 1 Axes>"
      ]
     },
     "metadata": {
      "needs_background": "light"
     },
     "output_type": "display_data"
    },
    {
     "name": "stdout",
     "output_type": "stream",
     "text": [
      "                        fun: -7.945823375615284\n",
      " lowest_optimization_result:       fun: -7.945823375615284\n",
      " hess_inv: array([[0.08581451]])\n",
      "      jac: array([1.1920929e-07])\n",
      "  message: 'Optimization terminated successfully.'\n",
      "     nfev: 33\n",
      "      nit: 8\n",
      "     njev: 11\n",
      "   status: 0\n",
      "  success: True\n",
      "        x: array([-1.30644002])\n",
      "                    message: ['requested number of basinhopping iterations completed successfully']\n",
      "      minimization_failures: 0\n",
      "                       nfev: 327\n",
      "                        nit: 20\n",
      "                       njev: 109\n",
      "                          x: array([-1.30644002])\n"
     ]
    }
   ],
   "source": [
    "# basinhopping command to get GD also \n",
    "\n",
    "\n",
    "import matplotlib.pyplot as plt\n",
    "import numpy as np\n",
    "import scipy as sc\n",
    "\n",
    "def f(x):\n",
    "    return x**2 + 10*np.sin(x)\n",
    "\n",
    "x = np.arange(-10, 10, 0.1)\n",
    "plt.plot(x, f(x))\n",
    "plt.show()\n",
    "\n",
    "a = sc.optimize.basinhopping(f,  #function\n",
    "                             x0 = 70 ,# a value to start\n",
    "                             niter = 20 , #max no. if ierations\n",
    "                             stepsize = .2 ,# step\n",
    "                             disp = 0) # if 1 then display full details\n",
    "print(a)\n"
   ]
  },
  {
   "cell_type": "code",
   "execution_count": 13,
   "metadata": {},
   "outputs": [
    {
     "name": "stdout",
     "output_type": "stream",
     "text": [
      "global minimum: x = -0.1951, f(x0) = -1.0009\n"
     ]
    }
   ],
   "source": [
    "# another formula\n",
    "\n",
    "\n",
    "import numpy as np\n",
    "import scipy as sc\n",
    "\n",
    "\n",
    "func = lambda x: np.cos(14.5 * x - 0.3) + (x + 0.2) * x\n",
    "x0=[1.]\n",
    "\n",
    "ret = sc.optimize.basinhopping(func, #function\n",
    "                               x0 , # a value to start\n",
    "                                # method = BFGS\n",
    "                               minimizer_kwargs={\"method\": \"BFGS\"},\n",
    "                               niter=200) #max no. if ierations\n",
    "print(\"global minimum: x = %.4f, f(x0) = %.4f\" % (ret.x, ret.fun))\n"
   ]
  },
  {
   "cell_type": "code",
   "execution_count": 14,
   "metadata": {},
   "outputs": [
    {
     "name": "stdout",
     "output_type": "stream",
     "text": [
      "global minimum: x = [-0.1881, -0.1543], f(x0) = -1.0028\n"
     ]
    }
   ],
   "source": [
    "# 2D formula\n",
    "\n",
    "import numpy as np\n",
    "import scipy as sc\n",
    "\n",
    "\n",
    "def func2d(x):\n",
    "    f = np.cos(14.5*x[0]-0.3)+(x[1]+0.2)*x[1]+(x[0]+0.2)*x[0]\n",
    "    df = np.zeros(2)\n",
    "    return f, df\n",
    "\n",
    "x0 = [1.0, 1.0]\n",
    "ret = sc.optimize.basinhopping(\n",
    "        func2d,\n",
    "        x0, \n",
    "        minimizer_kwargs={\"method\":\"L-BFGS-B\", \"jac\":True},\n",
    "        niter=2000)\n",
    "\n",
    "print(\"global minimum: x = [%.4f, %.4f], f(x0) = %.4f\" % \n",
    "      (ret.x[0],ret.x[1],ret.fun))\n"
   ]
  },
  {
   "cell_type": "code",
   "execution_count": 17,
   "metadata": {},
   "outputs": [
    {
     "name": "stdout",
     "output_type": "stream",
     "text": [
      "[5.]\n"
     ]
    }
   ],
   "source": [
    "# fsolve command to get the biggest root of equation\n",
    "\n",
    "\n",
    "import scipy as sc\n",
    "\n",
    "def f(x):\n",
    "    return x**2 - 2*x -15\n",
    "\n",
    "a = sc.optimize.fsolve(f,x0 = 10 , full_output=False )\n",
    "print(a)\n"
   ]
  },
  {
   "cell_type": "code",
   "execution_count": 18,
   "metadata": {},
   "outputs": [
    {
     "name": "stdout",
     "output_type": "stream",
     "text": [
      "(array([5.]), {'nfev': 9, 'fjac': array([[-1.]]), 'r': array([-8.00003226]), 'qtf': array([-1.23520701e-07]), 'fvec': array([4.97379915e-13])}, 1, 'The solution converged.')\n"
     ]
    }
   ],
   "source": [
    "# for more details \n",
    "\n",
    "\n",
    "import scipy as sc\n",
    "def f(x):\n",
    "    return x**2 - 2*x -15\n",
    "\n",
    "a = sc.optimize.fsolve(f,x0 = 10 , full_output=True )\n",
    "\n",
    "print(a)"
   ]
  },
  {
   "cell_type": "code",
   "execution_count": 19,
   "metadata": {},
   "outputs": [
    {
     "data": {
      "image/png": "[encoded data removed]",
      "text/plain": [
       "<Figure size 432x288 with 1 Axes>"
      ]
     },
     "metadata": {
      "needs_background": "light"
     },
     "output_type": "display_data"
    }
   ],
   "source": [
    "# curve_fit command\n",
    "\n",
    "\n",
    "import numpy as np\n",
    "import matplotlib.pyplot as plt\n",
    "from scipy.optimize import curve_fit\n",
    "#function\n",
    "def func(x, a, b, c):\n",
    "    return a * np.exp(-b * x) + c\n",
    "#random values of X \n",
    "xdata = np.linspace(0, 4, 50)\n",
    "y = func(xdata, 2.5, 1.3, 0.5)\n",
    "np.random.seed(1729)\n",
    "# y noise\n",
    "y_noise = 0.2 * np.random.normal(size=xdata.size)\n",
    "ydata = y + y_noise\n",
    "plt.plot(xdata, ydata, 'b-', label='data')  # draw the blue line\n",
    "\n",
    "popt, pcov = curve_fit(func, xdata, ydata) #fitting\n",
    "plt.plot(xdata, func(xdata, *popt), 'r-', #draw the red line\n",
    "         label='fit: a=%5.3f, b=%5.3f, c=%5.3f' % tuple(popt))\n",
    "\n",
    "#fit with bounds\n",
    "popt, pcov =curve_fit(func,xdata,ydata,bounds=(0,[3., 1., 0.5]))\n",
    "plt.plot(xdata, func(xdata, *popt),  #draw the green line\n",
    "         'g--',label='fit: a=%5.3f, b=%5.3f, c=%5.3f' % tuple(popt))\n",
    "\n",
    "plt.xlabel('x')\n",
    "plt.ylabel('y')\n",
    "plt.legend()\n",
    "plt.show()\n"
   ]
  },
  {
   "cell_type": "code",
   "execution_count": null,
   "metadata": {},
   "outputs": [],
   "source": []
  }
 ],
 "metadata": {
  "kernelspec": {
   "display_name": "Python 3",
   "language": "python",
   "name": "python3"
  },
  "language_info": {
   "codemirror_mode": {
    "name": "ipython",
    "version": 3
   },
   "file_extension": ".py",
   "mimetype": "text/x-python",
   "name": "python",
   "nbconvert_exporter": "python",
   "pygments_lexer": "ipython3",
   "version": "3.7.6"
  }
 },
 "nbformat": 4,
 "nbformat_minor": 4
}
